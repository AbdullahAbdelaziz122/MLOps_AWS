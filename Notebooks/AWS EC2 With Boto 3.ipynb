{
 "cells": [
  {
   "cell_type": "markdown",
   "id": "71208b42-4ae6-43e0-b0a1-99102b250879",
   "metadata": {},
   "source": [
    "# Trying AWS Console with BOTO3 \n",
    "How to create EC2 Instance using Boto3 "
   ]
  },
  {
   "cell_type": "markdown",
   "id": "e83a084c-709f-4117-b057-dae5d76fc5c3",
   "metadata": {},
   "source": [
    "# Create Key-pair for secure connection"
   ]
  },
  {
   "cell_type": "code",
   "execution_count": 1,
   "id": "98ff16f2-f243-437a-b095-082515465004",
   "metadata": {},
   "outputs": [],
   "source": [
    "import boto3"
   ]
  },
  {
   "cell_type": "code",
   "execution_count": 2,
   "id": "8dd51cf6-6a64-4c16-985e-fff594587eb6",
   "metadata": {},
   "outputs": [
    {
     "data": {
      "text/plain": [
       "{'Reservations': [],\n",
       " 'ResponseMetadata': {'RequestId': '3ed463a3-0662-4d76-a3d4-f3e699e09f9a',\n",
       "  'HTTPStatusCode': 200,\n",
       "  'HTTPHeaders': {'x-amzn-requestid': '3ed463a3-0662-4d76-a3d4-f3e699e09f9a',\n",
       "   'cache-control': 'no-cache, no-store',\n",
       "   'strict-transport-security': 'max-age=31536000; includeSubDomains',\n",
       "   'content-type': 'text/xml;charset=UTF-8',\n",
       "   'content-length': '219',\n",
       "   'date': 'Fri, 29 Aug 2025 08:12:06 GMT',\n",
       "   'server': 'AmazonEC2'},\n",
       "  'RetryAttempts': 0}}"
      ]
     },
     "execution_count": 2,
     "metadata": {},
     "output_type": "execute_result"
    }
   ],
   "source": [
    "ec2 = boto3.client(\"ec2\")\n",
    "ec2.describe_instances()"
   ]
  },
  {
   "cell_type": "code",
   "execution_count": 3,
   "id": "41ef5072-1319-46c7-a242-1b13c2abbc48",
   "metadata": {},
   "outputs": [],
   "source": [
    "# Creating Key pair \n",
    "resp  = ec2.create_key_pair(KeyName=\"testuser\")"
   ]
  },
  {
   "cell_type": "markdown",
   "id": "7a79163e-9c07-466d-b377-5b5cd6301824",
   "metadata": {},
   "source": [
    "## Create a pem file "
   ]
  },
  {
   "cell_type": "code",
   "execution_count": 4,
   "id": "c32610a5-570b-4db9-891c-2d33b8d5fd57",
   "metadata": {},
   "outputs": [],
   "source": [
    "key=resp[\"KeyMaterial\"]\n",
    "file = open(\"./creds/testuser.pem\", \"w+\")\n",
    "file.write(key)\n",
    "file.close()"
   ]
  },
  {
   "cell_type": "markdown",
   "id": "3544d486-e8c9-44da-b8bc-56c935d35b9a",
   "metadata": {},
   "source": [
    "# Create an Amazon EC2 Instance "
   ]
  },
  {
   "cell_type": "code",
   "execution_count": 8,
   "id": "a8f8fcba-6087-403a-a24d-babbfd38f980",
   "metadata": {},
   "outputs": [],
   "source": [
    "ec2.describe_instances()\n",
    "\n",
    "response = ec2.run_instances(\n",
    "    ImageId = 'ami-0c4fc5dcabc9df21d',\n",
    "    MinCount = 1,\n",
    "    MaxCount = 1,\n",
    "    InstanceType = 't3.micro',\n",
    "    KeyName = 'testuser',\n",
    "    BlockDeviceMappings = [\n",
    "        {\n",
    "            \"DeviceName\": \"/dev/xvda\",\n",
    "            \"Ebs\" : {\n",
    "                \"DeleteOnTermination\": True,\n",
    "                \"VolumeSize\": 20\n",
    "            }\n",
    "        }\n",
    "    ]\n",
    ")"
   ]
  },
  {
   "cell_type": "code",
   "execution_count": 13,
   "id": "849265ba-ce22-442a-8301-a2ae96ddc226",
   "metadata": {},
   "outputs": [
    {
     "data": {
      "text/plain": [
       "{'Reservations': [{'Groups': [],\n",
       "   'Instances': [{'AmiLaunchIndex': 0,\n",
       "     'ImageId': 'ami-0c4fc5dcabc9df21d',\n",
       "     'InstanceId': 'i-087e56f348d2a023e',\n",
       "     'InstanceType': 't3.micro',\n",
       "     'KeyName': 'testuser',\n",
       "     'LaunchTime': datetime.datetime(2025, 8, 29, 8, 16, tzinfo=tzutc()),\n",
       "     'Monitoring': {'State': 'disabled'},\n",
       "     'Placement': {'AvailabilityZone': 'eu-north-1a',\n",
       "      'GroupName': '',\n",
       "      'Tenancy': 'default'},\n",
       "     'PrivateDnsName': 'ip-172-31-29-0.eu-north-1.compute.internal',\n",
       "     'PrivateIpAddress': '172.31.29.0',\n",
       "     'ProductCodes': [],\n",
       "     'PublicDnsName': 'ec2-13-51-178-236.eu-north-1.compute.amazonaws.com',\n",
       "     'PublicIpAddress': '13.51.178.236',\n",
       "     'State': {'Code': 16, 'Name': 'running'},\n",
       "     'StateTransitionReason': '',\n",
       "     'SubnetId': 'subnet-064cec0bf36cd98b4',\n",
       "     'VpcId': 'vpc-0f835a8a4d6fa6501',\n",
       "     'Architecture': 'x86_64',\n",
       "     'BlockDeviceMappings': [{'DeviceName': '/dev/xvda',\n",
       "       'Ebs': {'AttachTime': datetime.datetime(2025, 8, 29, 8, 16, tzinfo=tzutc()),\n",
       "        'DeleteOnTermination': True,\n",
       "        'Status': 'attached',\n",
       "        'VolumeId': 'vol-069c3f7900e4f8a85'}}],\n",
       "     'ClientToken': '3b9d2612-82e7-4b35-9428-a890dbf8755b',\n",
       "     'EbsOptimized': False,\n",
       "     'EnaSupport': True,\n",
       "     'Hypervisor': 'xen',\n",
       "     'NetworkInterfaces': [{'Association': {'IpOwnerId': 'amazon',\n",
       "        'PublicDnsName': 'ec2-13-51-178-236.eu-north-1.compute.amazonaws.com',\n",
       "        'PublicIp': '13.51.178.236'},\n",
       "       'Attachment': {'AttachTime': datetime.datetime(2025, 8, 29, 8, 16, tzinfo=tzutc()),\n",
       "        'AttachmentId': 'eni-attach-0044389c29c6aa716',\n",
       "        'DeleteOnTermination': True,\n",
       "        'DeviceIndex': 0,\n",
       "        'Status': 'attached',\n",
       "        'NetworkCardIndex': 0},\n",
       "       'Description': '',\n",
       "       'Groups': [{'GroupName': 'default', 'GroupId': 'sg-0981e486cc9b77ac3'}],\n",
       "       'Ipv6Addresses': [],\n",
       "       'MacAddress': '06:bb:70:02:00:53',\n",
       "       'NetworkInterfaceId': 'eni-02369606796098f6b',\n",
       "       'OwnerId': '508426718808',\n",
       "       'PrivateDnsName': 'ip-172-31-29-0.eu-north-1.compute.internal',\n",
       "       'PrivateIpAddress': '172.31.29.0',\n",
       "       'PrivateIpAddresses': [{'Association': {'IpOwnerId': 'amazon',\n",
       "          'PublicDnsName': 'ec2-13-51-178-236.eu-north-1.compute.amazonaws.com',\n",
       "          'PublicIp': '13.51.178.236'},\n",
       "         'Primary': True,\n",
       "         'PrivateDnsName': 'ip-172-31-29-0.eu-north-1.compute.internal',\n",
       "         'PrivateIpAddress': '172.31.29.0'}],\n",
       "       'SourceDestCheck': True,\n",
       "       'Status': 'in-use',\n",
       "       'SubnetId': 'subnet-064cec0bf36cd98b4',\n",
       "       'VpcId': 'vpc-0f835a8a4d6fa6501',\n",
       "       'InterfaceType': 'interface'}],\n",
       "     'RootDeviceName': '/dev/xvda',\n",
       "     'RootDeviceType': 'ebs',\n",
       "     'SecurityGroups': [{'GroupName': 'default',\n",
       "       'GroupId': 'sg-0981e486cc9b77ac3'}],\n",
       "     'SourceDestCheck': True,\n",
       "     'VirtualizationType': 'hvm',\n",
       "     'CpuOptions': {'CoreCount': 1, 'ThreadsPerCore': 2},\n",
       "     'CapacityReservationSpecification': {'CapacityReservationPreference': 'open'},\n",
       "     'HibernationOptions': {'Configured': False},\n",
       "     'MetadataOptions': {'State': 'applied',\n",
       "      'HttpTokens': 'required',\n",
       "      'HttpPutResponseHopLimit': 2,\n",
       "      'HttpEndpoint': 'enabled',\n",
       "      'HttpProtocolIpv6': 'disabled',\n",
       "      'InstanceMetadataTags': 'disabled'},\n",
       "     'EnclaveOptions': {'Enabled': False},\n",
       "     'BootMode': 'uefi-preferred',\n",
       "     'PlatformDetails': 'Linux/UNIX',\n",
       "     'UsageOperation': 'RunInstances',\n",
       "     'UsageOperationUpdateTime': datetime.datetime(2025, 8, 29, 8, 16, tzinfo=tzutc()),\n",
       "     'PrivateDnsNameOptions': {'HostnameType': 'ip-name',\n",
       "      'EnableResourceNameDnsARecord': False,\n",
       "      'EnableResourceNameDnsAAAARecord': False},\n",
       "     'MaintenanceOptions': {'AutoRecovery': 'default'},\n",
       "     'CurrentInstanceBootMode': 'uefi'}],\n",
       "   'OwnerId': '508426718808',\n",
       "   'ReservationId': 'r-037c88d7512a2f645'}],\n",
       " 'ResponseMetadata': {'RequestId': '9e15a5e9-feee-4020-9064-1795834a36f9',\n",
       "  'HTTPStatusCode': 200,\n",
       "  'HTTPHeaders': {'x-amzn-requestid': '9e15a5e9-feee-4020-9064-1795834a36f9',\n",
       "   'cache-control': 'no-cache, no-store',\n",
       "   'strict-transport-security': 'max-age=31536000; includeSubDomains',\n",
       "   'vary': 'accept-encoding',\n",
       "   'content-type': 'text/xml;charset=UTF-8',\n",
       "   'content-length': '5337',\n",
       "   'date': 'Fri, 29 Aug 2025 08:23:23 GMT',\n",
       "   'server': 'AmazonEC2'},\n",
       "  'RetryAttempts': 0}}"
      ]
     },
     "execution_count": 13,
     "metadata": {},
     "output_type": "execute_result"
    }
   ],
   "source": [
    "# Check the created instance\n",
    "ec2.describe_instances()"
   ]
  },
  {
   "cell_type": "markdown",
   "id": "86c31f65-eda3-43fb-ad7b-95e78c327975",
   "metadata": {},
   "source": [
    "# Create a Security group and add it to EC2 Instance "
   ]
  },
  {
   "cell_type": "code",
   "execution_count": 17,
   "id": "f16b9265-916a-4547-8c4c-dc8cf125059b",
   "metadata": {},
   "outputs": [
    {
     "data": {
      "text/plain": [
       "{'SecurityGroups': [{'Description': 'Security group for testing',\n",
       "   'GroupName': 'testuser',\n",
       "   'IpPermissions': [],\n",
       "   'OwnerId': '508426718808',\n",
       "   'GroupId': 'sg-0e943ad903051d7fb',\n",
       "   'IpPermissionsEgress': [{'IpProtocol': '-1',\n",
       "     'IpRanges': [{'CidrIp': '0.0.0.0/0'}],\n",
       "     'Ipv6Ranges': [],\n",
       "     'PrefixListIds': [],\n",
       "     'UserIdGroupPairs': []}],\n",
       "   'VpcId': 'vpc-0f835a8a4d6fa6501'},\n",
       "  {'Description': 'default VPC security group',\n",
       "   'GroupName': 'default',\n",
       "   'IpPermissions': [{'IpProtocol': '-1',\n",
       "     'IpRanges': [],\n",
       "     'Ipv6Ranges': [],\n",
       "     'PrefixListIds': [],\n",
       "     'UserIdGroupPairs': [{'GroupId': 'sg-0981e486cc9b77ac3',\n",
       "       'UserId': '508426718808'}]}],\n",
       "   'OwnerId': '508426718808',\n",
       "   'GroupId': 'sg-0981e486cc9b77ac3',\n",
       "   'IpPermissionsEgress': [{'IpProtocol': '-1',\n",
       "     'IpRanges': [{'CidrIp': '0.0.0.0/0'}],\n",
       "     'Ipv6Ranges': [],\n",
       "     'PrefixListIds': [],\n",
       "     'UserIdGroupPairs': []}],\n",
       "   'VpcId': 'vpc-0f835a8a4d6fa6501'}],\n",
       " 'ResponseMetadata': {'RequestId': 'bfef8a6b-a627-4144-82fe-7289cf9fb6e2',\n",
       "  'HTTPStatusCode': 200,\n",
       "  'HTTPHeaders': {'x-amzn-requestid': 'bfef8a6b-a627-4144-82fe-7289cf9fb6e2',\n",
       "   'cache-control': 'no-cache, no-store',\n",
       "   'strict-transport-security': 'max-age=31536000; includeSubDomains',\n",
       "   'content-type': 'text/xml;charset=UTF-8',\n",
       "   'content-length': '1479',\n",
       "   'date': 'Fri, 29 Aug 2025 09:32:00 GMT',\n",
       "   'server': 'AmazonEC2'},\n",
       "  'RetryAttempts': 0}}"
      ]
     },
     "execution_count": 17,
     "metadata": {},
     "output_type": "execute_result"
    }
   ],
   "source": [
    "response = ec2.describe_security_groups()\n",
    "response"
   ]
  },
  {
   "cell_type": "code",
   "execution_count": 15,
   "id": "5a140c5a-0a34-44fb-9e9c-390bca6c7246",
   "metadata": {},
   "outputs": [],
   "source": [
    "security_response = ec2.create_security_group(\n",
    "    GroupName = 'testuser',\n",
    "    Description = \"Security group for testing\"\n",
    ")"
   ]
  },
  {
   "cell_type": "code",
   "execution_count": 18,
   "id": "6198dc47-be6f-4ee5-97a9-f03082470e5b",
   "metadata": {},
   "outputs": [
    {
     "data": {
      "text/plain": [
       "{'GroupId': 'sg-0e943ad903051d7fb',\n",
       " 'ResponseMetadata': {'RequestId': '893ee29c-d528-4553-ab6d-56a1390ab80b',\n",
       "  'HTTPStatusCode': 200,\n",
       "  'HTTPHeaders': {'x-amzn-requestid': '893ee29c-d528-4553-ab6d-56a1390ab80b',\n",
       "   'cache-control': 'no-cache, no-store',\n",
       "   'strict-transport-security': 'max-age=31536000; includeSubDomains',\n",
       "   'content-type': 'text/xml;charset=UTF-8',\n",
       "   'content-length': '374',\n",
       "   'date': 'Fri, 29 Aug 2025 09:31:25 GMT',\n",
       "   'server': 'AmazonEC2'},\n",
       "  'RetryAttempts': 0}}"
      ]
     },
     "execution_count": 18,
     "metadata": {},
     "output_type": "execute_result"
    }
   ],
   "source": [
    "security_response"
   ]
  },
  {
   "cell_type": "code",
   "execution_count": 22,
   "id": "fbd68d8b-f6f2-4b63-9ef3-4cf851446898",
   "metadata": {},
   "outputs": [
    {
     "data": {
      "text/plain": [
       "'sg-0e943ad903051d7fb'"
      ]
     },
     "execution_count": 22,
     "metadata": {},
     "output_type": "execute_result"
    }
   ],
   "source": [
    "# Extract group id to apply inbound rules....\n",
    "security_group_id  = security_response['GroupId']\n",
    "security_group_id"
   ]
  },
  {
   "cell_type": "markdown",
   "id": "bd89e31b-f5b9-4907-a283-67f8f0875d22",
   "metadata": {},
   "source": [
    "## Provide Inbound Rules"
   ]
  },
  {
   "cell_type": "code",
   "execution_count": 23,
   "id": "d8d26827-9dc5-47f6-bf6d-03710afa649e",
   "metadata": {},
   "outputs": [],
   "source": [
    "# ip, port, traffic type\n",
    "response = ec2.authorize_security_group_ingress(\n",
    "    GroupId = security_group_id,\n",
    "    IpPermissions = [\n",
    "        {\n",
    "            'IpProtocol': 'tcp',\n",
    "            'FromPort': 22,\n",
    "            'ToPort': 22,\n",
    "            'IpRanges': [{'CidrIp': '0.0.0.0/0'}]\n",
    "        }\n",
    "    ]\n",
    ")"
   ]
  },
  {
   "cell_type": "code",
   "execution_count": 24,
   "id": "927113f0-0628-40ca-95bd-eb63d747e5dd",
   "metadata": {},
   "outputs": [
    {
     "data": {
      "text/plain": [
       "{'Return': True,\n",
       " 'SecurityGroupRules': [{'SecurityGroupRuleId': 'sgr-066e5916d0e368bbc',\n",
       "   'GroupId': 'sg-0e943ad903051d7fb',\n",
       "   'GroupOwnerId': '508426718808',\n",
       "   'IsEgress': False,\n",
       "   'IpProtocol': 'tcp',\n",
       "   'FromPort': 22,\n",
       "   'ToPort': 22,\n",
       "   'CidrIpv4': '0.0.0.0/0'}],\n",
       " 'ResponseMetadata': {'RequestId': '64c06dc4-f17b-40f0-8642-64f207127092',\n",
       "  'HTTPStatusCode': 200,\n",
       "  'HTTPHeaders': {'x-amzn-requestid': '64c06dc4-f17b-40f0-8642-64f207127092',\n",
       "   'cache-control': 'no-cache, no-store',\n",
       "   'strict-transport-security': 'max-age=31536000; includeSubDomains',\n",
       "   'content-type': 'text/xml;charset=UTF-8',\n",
       "   'content-length': '697',\n",
       "   'date': 'Fri, 29 Aug 2025 09:51:41 GMT',\n",
       "   'server': 'AmazonEC2'},\n",
       "  'RetryAttempts': 0}}"
      ]
     },
     "execution_count": 24,
     "metadata": {},
     "output_type": "execute_result"
    }
   ],
   "source": [
    "response"
   ]
  },
  {
   "cell_type": "markdown",
   "id": "c4c22e10-3066-41fa-861c-4e532acc5eca",
   "metadata": {},
   "source": [
    "## Connect the security group with EC2 Instance "
   ]
  },
  {
   "cell_type": "code",
   "execution_count": 27,
   "id": "9f7d090e-f8d2-4bc6-82f1-cc69fcbc068c",
   "metadata": {},
   "outputs": [
    {
     "data": {
      "text/plain": [
       "{'Reservations': [{'Groups': [],\n",
       "   'Instances': [{'AmiLaunchIndex': 0,\n",
       "     'ImageId': 'ami-0c4fc5dcabc9df21d',\n",
       "     'InstanceId': 'i-087e56f348d2a023e',\n",
       "     'InstanceType': 't3.micro',\n",
       "     'KeyName': 'testuser',\n",
       "     'LaunchTime': datetime.datetime(2025, 8, 29, 8, 16, tzinfo=tzutc()),\n",
       "     'Monitoring': {'State': 'disabled'},\n",
       "     'Placement': {'AvailabilityZone': 'eu-north-1a',\n",
       "      'GroupName': '',\n",
       "      'Tenancy': 'default'},\n",
       "     'PrivateDnsName': 'ip-172-31-29-0.eu-north-1.compute.internal',\n",
       "     'PrivateIpAddress': '172.31.29.0',\n",
       "     'ProductCodes': [],\n",
       "     'PublicDnsName': 'ec2-13-51-178-236.eu-north-1.compute.amazonaws.com',\n",
       "     'PublicIpAddress': '13.51.178.236',\n",
       "     'State': {'Code': 16, 'Name': 'running'},\n",
       "     'StateTransitionReason': '',\n",
       "     'SubnetId': 'subnet-064cec0bf36cd98b4',\n",
       "     'VpcId': 'vpc-0f835a8a4d6fa6501',\n",
       "     'Architecture': 'x86_64',\n",
       "     'BlockDeviceMappings': [{'DeviceName': '/dev/xvda',\n",
       "       'Ebs': {'AttachTime': datetime.datetime(2025, 8, 29, 8, 16, tzinfo=tzutc()),\n",
       "        'DeleteOnTermination': True,\n",
       "        'Status': 'attached',\n",
       "        'VolumeId': 'vol-069c3f7900e4f8a85'}}],\n",
       "     'ClientToken': '3b9d2612-82e7-4b35-9428-a890dbf8755b',\n",
       "     'EbsOptimized': False,\n",
       "     'EnaSupport': True,\n",
       "     'Hypervisor': 'xen',\n",
       "     'NetworkInterfaces': [{'Association': {'IpOwnerId': 'amazon',\n",
       "        'PublicDnsName': 'ec2-13-51-178-236.eu-north-1.compute.amazonaws.com',\n",
       "        'PublicIp': '13.51.178.236'},\n",
       "       'Attachment': {'AttachTime': datetime.datetime(2025, 8, 29, 8, 16, tzinfo=tzutc()),\n",
       "        'AttachmentId': 'eni-attach-0044389c29c6aa716',\n",
       "        'DeleteOnTermination': True,\n",
       "        'DeviceIndex': 0,\n",
       "        'Status': 'attached',\n",
       "        'NetworkCardIndex': 0},\n",
       "       'Description': '',\n",
       "       'Groups': [{'GroupName': 'default', 'GroupId': 'sg-0981e486cc9b77ac3'}],\n",
       "       'Ipv6Addresses': [],\n",
       "       'MacAddress': '06:bb:70:02:00:53',\n",
       "       'NetworkInterfaceId': 'eni-02369606796098f6b',\n",
       "       'OwnerId': '508426718808',\n",
       "       'PrivateDnsName': 'ip-172-31-29-0.eu-north-1.compute.internal',\n",
       "       'PrivateIpAddress': '172.31.29.0',\n",
       "       'PrivateIpAddresses': [{'Association': {'IpOwnerId': 'amazon',\n",
       "          'PublicDnsName': 'ec2-13-51-178-236.eu-north-1.compute.amazonaws.com',\n",
       "          'PublicIp': '13.51.178.236'},\n",
       "         'Primary': True,\n",
       "         'PrivateDnsName': 'ip-172-31-29-0.eu-north-1.compute.internal',\n",
       "         'PrivateIpAddress': '172.31.29.0'}],\n",
       "       'SourceDestCheck': True,\n",
       "       'Status': 'in-use',\n",
       "       'SubnetId': 'subnet-064cec0bf36cd98b4',\n",
       "       'VpcId': 'vpc-0f835a8a4d6fa6501',\n",
       "       'InterfaceType': 'interface'}],\n",
       "     'RootDeviceName': '/dev/xvda',\n",
       "     'RootDeviceType': 'ebs',\n",
       "     'SecurityGroups': [{'GroupName': 'default',\n",
       "       'GroupId': 'sg-0981e486cc9b77ac3'}],\n",
       "     'SourceDestCheck': True,\n",
       "     'VirtualizationType': 'hvm',\n",
       "     'CpuOptions': {'CoreCount': 1, 'ThreadsPerCore': 2},\n",
       "     'CapacityReservationSpecification': {'CapacityReservationPreference': 'open'},\n",
       "     'HibernationOptions': {'Configured': False},\n",
       "     'MetadataOptions': {'State': 'applied',\n",
       "      'HttpTokens': 'required',\n",
       "      'HttpPutResponseHopLimit': 2,\n",
       "      'HttpEndpoint': 'enabled',\n",
       "      'HttpProtocolIpv6': 'disabled',\n",
       "      'InstanceMetadataTags': 'disabled'},\n",
       "     'EnclaveOptions': {'Enabled': False},\n",
       "     'BootMode': 'uefi-preferred',\n",
       "     'PlatformDetails': 'Linux/UNIX',\n",
       "     'UsageOperation': 'RunInstances',\n",
       "     'UsageOperationUpdateTime': datetime.datetime(2025, 8, 29, 8, 16, tzinfo=tzutc()),\n",
       "     'PrivateDnsNameOptions': {'HostnameType': 'ip-name',\n",
       "      'EnableResourceNameDnsARecord': False,\n",
       "      'EnableResourceNameDnsAAAARecord': False},\n",
       "     'MaintenanceOptions': {'AutoRecovery': 'default'},\n",
       "     'CurrentInstanceBootMode': 'uefi'}],\n",
       "   'OwnerId': '508426718808',\n",
       "   'ReservationId': 'r-037c88d7512a2f645'}],\n",
       " 'ResponseMetadata': {'RequestId': 'f208d53d-70cb-4cb6-bfb8-fb7c7ba16cda',\n",
       "  'HTTPStatusCode': 200,\n",
       "  'HTTPHeaders': {'x-amzn-requestid': 'f208d53d-70cb-4cb6-bfb8-fb7c7ba16cda',\n",
       "   'cache-control': 'no-cache, no-store',\n",
       "   'strict-transport-security': 'max-age=31536000; includeSubDomains',\n",
       "   'vary': 'accept-encoding',\n",
       "   'content-type': 'text/xml;charset=UTF-8',\n",
       "   'content-length': '5337',\n",
       "   'date': 'Fri, 29 Aug 2025 11:06:10 GMT',\n",
       "   'server': 'AmazonEC2'},\n",
       "  'RetryAttempts': 0}}"
      ]
     },
     "execution_count": 27,
     "metadata": {},
     "output_type": "execute_result"
    }
   ],
   "source": [
    "response = ec2.describe_instances()\n",
    "response"
   ]
  },
  {
   "cell_type": "code",
   "execution_count": 34,
   "id": "52f8a5aa-6b85-4bc7-a15b-3b57cd4acef5",
   "metadata": {},
   "outputs": [
    {
     "data": {
      "text/plain": [
       "('i-087e56f348d2a023e', 'sg-0e943ad903051d7fb')"
      ]
     },
     "execution_count": 34,
     "metadata": {},
     "output_type": "execute_result"
    }
   ],
   "source": [
    "# Get instance id \n",
    "instance_id = response['Reservations'][0]['Instances'][0]['InstanceId']\n",
    "instance_id, security_group_id"
   ]
  },
  {
   "cell_type": "code",
   "execution_count": 43,
   "id": "e5d2bc3a-572a-4209-835a-c1a2f26eba14",
   "metadata": {},
   "outputs": [
    {
     "data": {
      "text/plain": [
       "'sg-0981e486cc9b77ac3'"
      ]
     },
     "execution_count": 43,
     "metadata": {},
     "output_type": "execute_result"
    }
   ],
   "source": [
    "# Get the group old id\n",
    "old_gid = response['Reservations'][0]['Instances'][0]['SecurityGroups'][0]['GroupId']\n",
    "old_gid"
   ]
  },
  {
   "cell_type": "code",
   "execution_count": 44,
   "id": "05ffad02-e3d7-4265-a5d2-45b6bd3ef773",
   "metadata": {},
   "outputs": [
    {
     "data": {
      "text/plain": [
       "{'ResponseMetadata': {'RequestId': '48a252f7-f1ca-4f01-b8a0-394ef0ec22ca',\n",
       "  'HTTPStatusCode': 200,\n",
       "  'HTTPHeaders': {'x-amzn-requestid': '48a252f7-f1ca-4f01-b8a0-394ef0ec22ca',\n",
       "   'cache-control': 'no-cache, no-store',\n",
       "   'strict-transport-security': 'max-age=31536000; includeSubDomains',\n",
       "   'content-type': 'text/xml;charset=UTF-8',\n",
       "   'content-length': '235',\n",
       "   'date': 'Fri, 29 Aug 2025 11:18:54 GMT',\n",
       "   'server': 'AmazonEC2'},\n",
       "  'RetryAttempts': 0}}"
      ]
     },
     "execution_count": 44,
     "metadata": {},
     "output_type": "execute_result"
    }
   ],
   "source": [
    "# Connect the security group with instance id \n",
    "# in groups list add the security groups - multiple groups is allowed\n",
    "response = ec2.modify_instance_attribute(\n",
    "    InstanceId = instance_id,\n",
    "    Groups = [security_group_id]\n",
    ")\n",
    "response"
   ]
  },
  {
   "cell_type": "markdown",
   "id": "007cb329-2bae-43d1-a8c0-0838a4d632a9",
   "metadata": {},
   "source": [
    "# Start, Stop, and Delete Amazon EC2 instances "
   ]
  },
  {
   "cell_type": "code",
   "execution_count": 56,
   "id": "5fdd89b1-1e44-4f1f-9f07-02adfca1dc7d",
   "metadata": {},
   "outputs": [],
   "source": [
    "# Status -> running, stopped, terminated, pending, etc.........\n",
    "import time\n",
    "def wait_for_status(instance_id, target_status):\n",
    "    while True:\n",
    "        response = ec2.describe_instances(InstanceIds = [instance_id])\n",
    "        state = response['Reservations'][0]['Instances'][0]['State']['Name']\n",
    "\n",
    "        if state == target_status:\n",
    "            print(f\"Instance {instance_id} is in {state} state\")\n",
    "            break\n",
    "        time.sleep(10)\n",
    "\n",
    "\n",
    "def start_instance(instance_id):\n",
    "    print(f\"Starting EC2 Instance {instance_id}\")\n",
    "    ec2.start_instances(InstanceIds = [instance_id])\n",
    "    wait_for_status(instance_id, 'running')\n",
    "\n",
    "\n",
    "def stop_instance(instance_id):\n",
    "    print(f\"stopping EC2 Instance {instance_id} \")\n",
    "    ec2.stop_instances(InstanceIds = [instance_id])\n",
    "    wait_for_status(instance_id, 'stopped')\n",
    "\n",
    "\n",
    "def terminate_instance(instance_id):\n",
    "    print(f\"Terminating EC2 Instance {instance_id}\")\n",
    "    ec2.terminate_instances(InstanceIds = [instance_id])\n",
    "    wait_for_status(instance_id, 'terminated')\n",
    "# stop_instance(instance_id)\n",
    "# start_instance(instance_id)"
   ]
  },
  {
   "cell_type": "code",
   "execution_count": 57,
   "id": "9b88784c-5273-4092-9b48-a8586165568e",
   "metadata": {},
   "outputs": [
    {
     "data": {
      "text/plain": [
       "'running'"
      ]
     },
     "execution_count": 57,
     "metadata": {},
     "output_type": "execute_result"
    }
   ],
   "source": [
    "response = ec2.describe_instances(InstanceIds = [instance_id])\n",
    "response['Reservations'][0]['Instances'][0]['State']['Name']"
   ]
  },
  {
   "cell_type": "code",
   "execution_count": 58,
   "id": "eceb42e8-0219-474f-b40b-354dbb749b04",
   "metadata": {},
   "outputs": [
    {
     "name": "stdout",
     "output_type": "stream",
     "text": [
      "Terminating EC2 Instance i-087e56f348d2a023e\n",
      "Instance i-087e56f348d2a023e is in terminated state\n"
     ]
    }
   ],
   "source": [
    "terminate_instance(instance_id)"
   ]
  },
  {
   "cell_type": "markdown",
   "id": "29336a90-7763-4804-b6f6-afde34b0241a",
   "metadata": {},
   "source": [
    "# Thank you "
   ]
  },
  {
   "cell_type": "code",
   "execution_count": null,
   "id": "cdeb8d5e-59d2-4f90-947b-80289d666b3b",
   "metadata": {},
   "outputs": [],
   "source": []
  }
 ],
 "metadata": {
  "kernelspec": {
   "display_name": "Python 3 (ipykernel)",
   "language": "python",
   "name": "python3"
  },
  "language_info": {
   "codemirror_mode": {
    "name": "ipython",
    "version": 3
   },
   "file_extension": ".py",
   "mimetype": "text/x-python",
   "name": "python",
   "nbconvert_exporter": "python",
   "pygments_lexer": "ipython3",
   "version": "3.9.23"
  }
 },
 "nbformat": 4,
 "nbformat_minor": 5
}
