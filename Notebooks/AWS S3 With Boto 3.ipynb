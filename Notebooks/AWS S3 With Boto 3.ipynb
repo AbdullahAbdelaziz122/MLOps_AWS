{
 "cells": [
  {
   "cell_type": "markdown",
   "id": "be2ca21b-cde8-4278-9fe5-58612c8ed8d2",
   "metadata": {},
   "source": [
    "# Boto 3 for S3 Tutorial in Python"
   ]
  },
  {
   "cell_type": "markdown",
   "id": "34de4821-9b64-4f01-ba48-77ee6c5c8d59",
   "metadata": {},
   "source": [
    "![Miro Image](https://miro.medium.com/1*fFXpjwt3uJgMrUTKip24dw.png)"
   ]
  },
  {
   "cell_type": "markdown",
   "id": "4cf30f9f-3c71-4986-bf86-76a0bce1e49e",
   "metadata": {},
   "source": [
    "# List S3 Buckets and Create an S3 Bucket "
   ]
  },
  {
   "cell_type": "code",
   "execution_count": 14,
   "id": "5b4b5f99-6b3b-4d67-8757-b15ff8ebccbe",
   "metadata": {},
   "outputs": [],
   "source": [
    "import boto3\n",
    "s3 = boto3.client('s3')\n",
    "\n",
    "bucket_name = 'randomtestabdullah'"
   ]
  },
  {
   "cell_type": "code",
   "execution_count": 15,
   "id": "a9a98fc7-2282-4972-a618-1248f602d734",
   "metadata": {},
   "outputs": [
    {
     "data": {
      "text/plain": [
       "[]"
      ]
     },
     "execution_count": 15,
     "metadata": {},
     "output_type": "execute_result"
    }
   ],
   "source": [
    "# Get all buckets \n",
    "\n",
    "response = s3.list_buckets()\n",
    "response['Buckets']"
   ]
  },
  {
   "cell_type": "code",
   "execution_count": 16,
   "id": "c37bb853-b301-431d-8767-65a53e9fcf38",
   "metadata": {},
   "outputs": [
    {
     "name": "stdout",
     "output_type": "stream",
     "text": [
      "Bucket \" randomtestabdullah \" is created\n"
     ]
    }
   ],
   "source": [
    "# Create S3 Bucket\n",
    "\n",
    "def create_bucket(bucket_name: str):\n",
    "    s3.create_bucket(\n",
    "        Bucket=bucket_name,\n",
    "        CreateBucketConfiguration={\n",
    "            'LocationConstraint': 'eu-north-1'\n",
    "        }\n",
    "    )\n",
    "    print(f\"Bucket \\\" {bucket_name} \\\" is created\")\n",
    "\n",
    "# Test\n",
    "create_bucket(bucket_name)"
   ]
  },
  {
   "cell_type": "markdown",
   "id": "3f60a005-b792-4943-a26b-df70cd4528ae",
   "metadata": {},
   "source": [
    "# Upload a Single File to S3"
   ]
  },
  {
   "cell_type": "code",
   "execution_count": 17,
   "id": "321ef17d-9107-4975-af20-17382db90f72",
   "metadata": {},
   "outputs": [],
   "source": [
    "import os\n",
    "\n",
    "def upload_file(bucket_name:str, file_path: str, object_name:str = None):\n",
    "    if object_name is None:\n",
    "        object_name = os.path.basename(file_path)\n",
    "\n",
    "    s3.upload_file(file_path, bucket_name, object_name)"
   ]
  },
  {
   "cell_type": "code",
   "execution_count": 18,
   "id": "779672a8-1226-4684-a8d7-90654c98d863",
   "metadata": {},
   "outputs": [],
   "source": [
    "filepath = \"assets/index.html\"\n",
    "upload_file(bucket_name, filepath)"
   ]
  },
  {
   "cell_type": "code",
   "execution_count": 25,
   "id": "fbb1fc53-c5a4-479e-a92e-33f0b201a30f",
   "metadata": {},
   "outputs": [],
   "source": [
    "# Generating Random data \n",
    "for i in range(5):\n",
    "    upload_file(bucket_name, file_path=filepath, object_name=f\"test {i}\")"
   ]
  },
  {
   "cell_type": "markdown",
   "id": "23e198b4-db4a-460d-bdfc-f6f72323c69e",
   "metadata": {},
   "source": [
    "# List all objects in a bucket"
   ]
  },
  {
   "cell_type": "code",
   "execution_count": 37,
   "id": "6e6dfdd2-24c0-4873-ae37-f10d4568b8be",
   "metadata": {},
   "outputs": [
    {
     "name": "stdout",
     "output_type": "stream",
     "text": [
      "index.html\n",
      "test 0\n",
      "test 1\n",
      "test 2\n",
      "test 3\n",
      "test 4\n"
     ]
    }
   ],
   "source": [
    "def list_objects(bucket_name):\n",
    "    \n",
    "    \"\"\"List all the object in the bucket\"\"\"\n",
    "    \n",
    "    response = s3.list_objects_v2(Bucket = bucket_name)\n",
    "    objects = response['Contents']\n",
    "    \n",
    "    for i in range(len(objects)) :\n",
    "        print(objects[i]['Key'])\n",
    "\n",
    "list_objects(bucket_name)"
   ]
  },
  {
   "cell_type": "markdown",
   "id": "3d555210-fefd-4f49-87a7-3d364196b50f",
   "metadata": {},
   "source": [
    "# Download S3 File to Local System"
   ]
  },
  {
   "cell_type": "code",
   "execution_count": 44,
   "id": "123c8520-4638-47a9-8e1e-f6b03aa47ca8",
   "metadata": {},
   "outputs": [],
   "source": [
    "def download_file(Bucket: str, ObjName: str, filePath: str):\n",
    "    if not os.path.exists(os.path.dirname(filePath)):\n",
    "        os.makedirs(filePath)\n",
    "\n",
    "    s3.download_file(Bucket, ObjName, filePath)\n",
    "\n",
    "for i in range (5):    \n",
    "    download_file(bucket_name, f\"test {i}\", f\"assets/test {i}\")"
   ]
  },
  {
   "cell_type": "markdown",
   "id": "d0f3fcbb-07eb-4680-bf6a-efb1a6e0658f",
   "metadata": {},
   "source": [
    "# Upload Folder to S3"
   ]
  },
  {
   "cell_type": "code",
   "execution_count": 50,
   "id": "32f17b04-5566-4fe1-be99-6a4967a0c333",
   "metadata": {},
   "outputs": [],
   "source": [
    "def upload_folder(Bucket, dir_path, s3_prefix):\n",
    "    for root, dirs, files in os.walk(\"assets\"):\n",
    "        for file in files:\n",
    "            filepath = os.path.join(root, file)\n",
    "            s3_key = os.path.join(s3_prefix, file)\n",
    "\n",
    "            s3.upload_file(filepath, Bucket, s3_key)\n",
    "\n",
    "            \n",
    "upload_folder(Bucket= bucket_name ,dir_path=\"assets\", s3_prefix=\"s3_data\")"
   ]
  },
  {
   "cell_type": "markdown",
   "id": "4cd837bb-b4b5-4f3d-b6fe-f78420375098",
   "metadata": {},
   "source": [
    "# Download Folder from S3 "
   ]
  },
  {
   "cell_type": "code",
   "execution_count": 63,
   "id": "4d8f0a36-8ec7-4fe2-ba6a-3f19c61f36e8",
   "metadata": {},
   "outputs": [],
   "source": [
    "local_path = \"s3_assets\"\n",
    "s3_prefix = \"s3_data\"\n",
    "\n",
    "def download_folder(bucket_name, local_path, s3_prefix):\n",
    "    os.makedirs(local_path, exist_ok=True)\n",
    "    \n",
    "    paginator = s3.get_paginator('list_objects_v2')\n",
    "    \n",
    "    for result in paginator.paginate(Bucket = bucket_name, Prefix = s3_prefix):\n",
    "        if 'Contents' in result:\n",
    "            for key in result['Contents']:\n",
    "                s3_key = key[\"Key\"]\n",
    "                # print(s3_key)\n",
    "                local_file = os.path.join(local_path, os.path.relpath(s3_key, s3_prefix))\n",
    "                s3.download_file(bucket_name, s3_key, local_file)\n",
    "\n",
    "download_folder(bucket_name, local_path, s3_prefix)"
   ]
  },
  {
   "cell_type": "markdown",
   "id": "6870195c-c86a-4eb1-9695-d4e0e840fcff",
   "metadata": {},
   "source": [
    "# Delete All Files in an S3 Bucket"
   ]
  },
  {
   "cell_type": "code",
   "execution_count": 72,
   "id": "b5dde9bd-8e59-4762-931e-b4a653efe85c",
   "metadata": {},
   "outputs": [
    {
     "name": "stdout",
     "output_type": "stream",
     "text": [
      "File index.html deleted.\n",
      "File s3_data/index.html deleted.\n",
      "File s3_data/test 0 deleted.\n",
      "File s3_data/test 1 deleted.\n",
      "File s3_data/test 2 deleted.\n",
      "File s3_data/test 3 deleted.\n",
      "File s3_data/test 4 deleted.\n",
      "File test 0 deleted.\n",
      "File test 1 deleted.\n",
      "File test 2 deleted.\n",
      "File test 3 deleted.\n",
      "File test 4 deleted.\n"
     ]
    }
   ],
   "source": [
    "def delete_bucket_files(bucket_name):\n",
    "    # Retrieve a list of all objects in the bucket\n",
    "    response = s3.list_objects_v2(Bucket = bucket_name)\n",
    "\n",
    "    # Check if the bucket contains any files\n",
    "    if 'Contents' in response:\n",
    "        # Loop through the list of objects\n",
    "        for obj in response['Contents']:\n",
    "            # Delete each object individually by passing it in the 'Objects' list\n",
    "            s3.delete_objects(\n",
    "                Bucket = bucket_name,\n",
    "                Delete = {\n",
    "                    'Objects': [\n",
    "                        {\n",
    "                            'Key': obj[\"Key\"]\n",
    "                        }\n",
    "                    ]\n",
    "                }\n",
    "            )\n",
    "            print(f\"File {obj['Key']} deleted.\")\n",
    "    else:\n",
    "        print(f\"Bucket '{bucket_name}' is already empty.\")\n",
    "\n",
    "delete_bucket_files(bucket_name)"
   ]
  },
  {
   "cell_type": "markdown",
   "id": "a12ad646-f503-4b58-be75-3dbbb7a2106b",
   "metadata": {},
   "source": [
    "# Delete S3 Bucket\n",
    "Must delete all files before this step"
   ]
  },
  {
   "cell_type": "code",
   "execution_count": 74,
   "id": "54d98b29-6c82-4a55-896f-fe7e1f60ed30",
   "metadata": {},
   "outputs": [
    {
     "data": {
      "text/plain": [
       "{'ResponseMetadata': {'RequestId': 'NTTJAB4V3QD04YAQ',\n",
       "  'HostId': 'BY7hoCWTRlOSA7BtgNwCV/qIKvznuL02ilWAEtyxEtNz4ni9WH3I0Zu9Zi4hfKaN3yvi3Uh2DjMHYBUCVkHnupGuas2ErjhwEwFrdCsBCGA=',\n",
       "  'HTTPStatusCode': 204,\n",
       "  'HTTPHeaders': {'x-amz-id-2': 'BY7hoCWTRlOSA7BtgNwCV/qIKvznuL02ilWAEtyxEtNz4ni9WH3I0Zu9Zi4hfKaN3yvi3Uh2DjMHYBUCVkHnupGuas2ErjhwEwFrdCsBCGA=',\n",
       "   'x-amz-request-id': 'NTTJAB4V3QD04YAQ',\n",
       "   'date': 'Sat, 30 Aug 2025 16:28:31 GMT',\n",
       "   'server': 'AmazonS3'},\n",
       "  'RetryAttempts': 0}}"
      ]
     },
     "execution_count": 74,
     "metadata": {},
     "output_type": "execute_result"
    }
   ],
   "source": [
    "s3.delete_bucket(Bucket = bucket_name)"
   ]
  },
  {
   "cell_type": "code",
   "execution_count": null,
   "id": "f89b1470-761f-4d67-9906-bb0fcf869102",
   "metadata": {},
   "outputs": [],
   "source": []
  }
 ],
 "metadata": {
  "kernelspec": {
   "display_name": "Python 3 (ipykernel)",
   "language": "python",
   "name": "python3"
  },
  "language_info": {
   "codemirror_mode": {
    "name": "ipython",
    "version": 3
   },
   "file_extension": ".py",
   "mimetype": "text/x-python",
   "name": "python",
   "nbconvert_exporter": "python",
   "pygments_lexer": "ipython3",
   "version": "3.9.23"
  }
 },
 "nbformat": 4,
 "nbformat_minor": 5
}
